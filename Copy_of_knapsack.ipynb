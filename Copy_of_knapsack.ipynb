{
  "nbformat": 4,
  "nbformat_minor": 0,
  "metadata": {
    "colab": {
      "provenance": [],
      "authorship_tag": "ABX9TyPo+gxpTncV7f/tOhfWb3OX",
      "include_colab_link": true
    },
    "kernelspec": {
      "name": "python3",
      "display_name": "Python 3"
    },
    "language_info": {
      "name": "python"
    }
  },
  "cells": [
    {
      "cell_type": "markdown",
      "metadata": {
        "id": "view-in-github",
        "colab_type": "text"
      },
      "source": [
        "<a href=\"https://colab.research.google.com/github/mapostel/allocation2/blob/main/Copy_of_knapsack.ipynb\" target=\"_parent\"><img src=\"https://colab.research.google.com/assets/colab-badge.svg\" alt=\"Open In Colab\"/></a>"
      ]
    },
    {
      "cell_type": "code",
      "source": [
        "!pip install ortools"
      ],
      "metadata": {
        "colab": {
          "base_uri": "https://localhost:8080/"
        },
        "id": "15LpFmA5I9uy",
        "outputId": "09c196fd-a2d6-4710-9090-d223a8b008a0"
      },
      "execution_count": null,
      "outputs": [
        {
          "output_type": "stream",
          "name": "stdout",
          "text": [
            "Looking in indexes: https://pypi.org/simple, https://us-python.pkg.dev/colab-wheels/public/simple/\n",
            "Collecting ortools\n",
            "  Downloading ortools-9.4.1874-cp37-cp37m-manylinux_2_17_x86_64.manylinux2014_x86_64.whl (16.0 MB)\n",
            "\u001b[K     |████████████████████████████████| 16.0 MB 31.7 MB/s \n",
            "\u001b[?25hRequirement already satisfied: absl-py>=0.13 in /usr/local/lib/python3.7/dist-packages (from ortools) (1.3.0)\n",
            "Requirement already satisfied: numpy>=1.13.3 in /usr/local/lib/python3.7/dist-packages (from ortools) (1.21.6)\n",
            "Requirement already satisfied: protobuf>=3.19.4 in /usr/local/lib/python3.7/dist-packages (from ortools) (3.19.6)\n",
            "Installing collected packages: ortools\n",
            "Successfully installed ortools-9.4.1874\n"
          ]
        }
      ]
    },
    {
      "cell_type": "code",
      "execution_count": null,
      "metadata": {
        "colab": {
          "base_uri": "https://localhost:8080/"
        },
        "id": "0gt5-QsWIy6p",
        "outputId": "790e7551-dd25-4d09-fdc3-44825ab851a8"
      },
      "outputs": [
        {
          "output_type": "stream",
          "name": "stdout",
          "text": [
            "here we go\n",
            "main\n",
            "<ortools.linear_solver.pywraplp.Solver; proxy of <Swig Object of type 'operations_research::MPSolver *' at 0x7f44c55eade0> >\n",
            "Total packed value: 4.0\n",
            "Bin 0\n",
            "Item 1 weight: 2 value: 1\n",
            "Packed bin weight: 2\n",
            "Packed bin value: 1\n",
            "\n",
            "Bin 1\n",
            "Item 3 weight: 3 value: 1\n",
            "Packed bin weight: 3\n",
            "Packed bin value: 1\n",
            "\n",
            "Bin 2\n",
            "Item 2 weight: 6 value: 1\n",
            "Packed bin weight: 6\n",
            "Packed bin value: 1\n",
            "\n",
            "Bin 3\n",
            "Item 0 weight: 3 value: 1\n",
            "Packed bin weight: 3\n",
            "Packed bin value: 1\n",
            "\n",
            "Total packed weight: 14\n"
          ]
        }
      ],
      "source": [
        "\"\"\"Solve a multiple knapsack problem using a MIP solver.\"\"\"\n",
        "from ortools.linear_solver import pywraplp\n",
        "\n",
        "\n",
        "def main():\n",
        "    print (\"main\")\n",
        "    data = {}\n",
        "    data['weights'] = [\n",
        "        3, 2, 6, 3, 6]\n",
        "    data['values'] = [\n",
        "        1, 1, 1, 1, 1]\n",
        "    assert len(data['weights']) == len(data['values'])\n",
        "    data['num_items'] = len(data['weights'])\n",
        "    data['all_items'] = range(data['num_items'])\n",
        "\n",
        "    data['bin_capacities'] = [2, 3, 6, 4]\n",
        "    data['num_bins'] = len(data['bin_capacities'])\n",
        "    data['all_bins'] = range(data['num_bins'])\n",
        "\n",
        "    # Create the mip solver with the SCIP backend.\n",
        "    solver = pywraplp.Solver.CreateSolver('SCIP')\n",
        "    if solver is None:\n",
        "        print('SCIP solver unavailable.')\n",
        "        return\n",
        "    print (solver)\n",
        "    # Variables.\n",
        "    # x[i, b] = 1 if item i is packed in bin b.\n",
        "    x = {}\n",
        "    for i in data['all_items']:\n",
        "        for b in data['all_bins']:\n",
        "            x[i, b] = solver.BoolVar(f'x_{i}_{b}')\n",
        "\n",
        "    # Constraints.\n",
        "    # Each item is assigned to at most one bin.\n",
        "    for i in data['all_items']:\n",
        "        solver.Add(sum(x[i, b] for b in data['all_bins']) <= 1)\n",
        "\n",
        "    # The amount packed in each bin cannot exceed its capacity.\n",
        "    for b in data['all_bins']:\n",
        "        solver.Add(\n",
        "            sum(x[i, b] * data['weights'][i]\n",
        "                for i in data['all_items']) <= data['bin_capacities'][b])\n",
        "\n",
        "    # Objective.\n",
        "    # Maximize total value of packed items.\n",
        "    objective = solver.Objective()\n",
        "    for i in data['all_items']:\n",
        "        for b in data['all_bins']:\n",
        "            objective.SetCoefficient(x[i, b], data['values'][i])\n",
        "    objective.SetMaximization()\n",
        "\n",
        "    status = solver.Solve()\n",
        "\n",
        "    if status == pywraplp.Solver.OPTIMAL:\n",
        "        print(f'Total packed value: {objective.Value()}')\n",
        "        total_weight = 0\n",
        "        for b in data['all_bins']:\n",
        "            print(f'Bin {b}')\n",
        "            bin_weight = 0\n",
        "            bin_value = 0\n",
        "            for i in data['all_items']:\n",
        "                if x[i, b].solution_value() > 0:\n",
        "                    print(\n",
        "                        f\"Item {i} weight: {data['weights'][i]} value: {data['values'][i]}\"\n",
        "                    )\n",
        "                    bin_weight += data['weights'][i]\n",
        "                    bin_value += data['values'][i]\n",
        "            print(f'Packed bin weight: {bin_weight}')\n",
        "            print(f'Packed bin value: {bin_value}\\n')\n",
        "            total_weight += bin_weight\n",
        "        print(f'Total packed weight: {total_weight}')\n",
        "    else:\n",
        "        print('The problem does not have an optimal solution.')\n",
        "\n",
        "print (\"here we go\")\n",
        "main()"
      ]
    }
  ]
}